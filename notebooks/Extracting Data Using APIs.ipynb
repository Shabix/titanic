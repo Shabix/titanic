{
 "cells": [
  {
   "cell_type": "markdown",
   "metadata": {},
   "source": [
    "# Extracting Data Using APIs"
   ]
  },
  {
   "cell_type": "markdown",
   "metadata": {},
   "source": [
    "#### import package"
   ]
  },
  {
   "cell_type": "code",
   "execution_count": 1,
   "metadata": {},
   "outputs": [],
   "source": [
    "import requests"
   ]
  },
  {
   "cell_type": "markdown",
   "metadata": {},
   "source": [
    "#### basic usage"
   ]
  },
  {
   "cell_type": "code",
   "execution_count": 3,
   "metadata": {},
   "outputs": [],
   "source": [
    "api_key = \"CICvT6RpydxKP2kSNvRkvy0MJRqhzkIEL2kPL4v3\"\n",
    "url = 'https://api.data.gov/ed/collegescorecard/v1/schools?api_key=CICvT6RpydxKP2kSNvRkvy0MJRqhzkIEL2kPL4v3'"
   ]
  },
  {
   "cell_type": "code",
   "execution_count": 4,
   "metadata": {},
   "outputs": [],
   "source": [
    "# using get command , returns response object\n",
    "result = requests.get(url)"
   ]
  },
  {
   "cell_type": "code",
   "execution_count": 5,
   "metadata": {},
   "outputs": [
    {
     "data": {
      "text/plain": [
       "200"
      ]
     },
     "execution_count": 5,
     "metadata": {},
     "output_type": "execute_result"
    }
   ],
   "source": [
    "result.status_code"
   ]
  },
  {
   "cell_type": "code",
   "execution_count": 11,
   "metadata": {},
   "outputs": [
    {
     "data": {
      "text/plain": [
       "{'Content-Length': '4011023', 'X-XSS-Protection': '1; mode=block', 'X-Cache': 'HIT', 'X-Content-Type-Options': 'nosniff', 'Content-Encoding': 'gzip', 'Age': '278', 'Strict-Transport-Security': 'max-age=31536000, max-age=31536000; preload', 'Vary': 'Accept-Encoding, Accept-Encoding', 'X-RateLimit-Remaining': '999', 'X-Vcap-Request-Id': '6fc4c43a-afb1-4bcf-6351-a5bee88b2379', 'Server': 'openresty', 'Connection': 'keep-alive', 'X-RateLimit-Limit': '1000', 'Cache-Control': 'public, max-age=300', 'Via': 'http/1.1 api-umbrella (ApacheTrafficServer [cRs f ])', 'Date': 'Thu, 16 Jul 2020 18:24:07 GMT', 'Access-Control-Allow-Origin': '*', 'Access-Control-Allow-Methods': 'GET', 'Content-Type': 'application/json', 'X-Frame-Options': 'DENY'}"
      ]
     },
     "execution_count": 11,
     "metadata": {},
     "output_type": "execute_result"
    }
   ],
   "source": [
    "result.headers"
   ]
  },
  {
   "cell_type": "code",
   "execution_count": 12,
   "metadata": {
    "scrolled": false
   },
   "outputs": [],
   "source": [
    "data = result.text"
   ]
  },
  {
   "cell_type": "code",
   "execution_count": null,
   "metadata": {},
   "outputs": [],
   "source": [
    "result.json()"
   ]
  }
 ],
 "metadata": {
  "kernelspec": {
   "display_name": "titanic_env",
   "language": "python",
   "name": "titanic_env"
  },
  "language_info": {
   "codemirror_mode": {
    "name": "ipython",
    "version": 2
   },
   "file_extension": ".py",
   "mimetype": "text/x-python",
   "name": "python",
   "nbconvert_exporter": "python",
   "pygments_lexer": "ipython2",
   "version": "2.7.15"
  }
 },
 "nbformat": 4,
 "nbformat_minor": 4
}
